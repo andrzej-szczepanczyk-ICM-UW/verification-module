{
 "cells": [
  {
   "cell_type": "code",
   "execution_count": 1,
   "metadata": {},
   "outputs": [
    {
     "data": {
      "application/json": {
       "cell": {
        "!": "OSMagics",
        "HTML": "Other",
        "SVG": "Other",
        "bash": "Other",
        "capture": "ExecutionMagics",
        "debug": "ExecutionMagics",
        "file": "Other",
        "html": "DisplayMagics",
        "javascript": "DisplayMagics",
        "js": "DisplayMagics",
        "latex": "DisplayMagics",
        "markdown": "DisplayMagics",
        "perl": "Other",
        "prun": "ExecutionMagics",
        "pypy": "Other",
        "python": "Other",
        "python2": "Other",
        "python3": "Other",
        "ruby": "Other",
        "script": "ScriptMagics",
        "sh": "Other",
        "svg": "DisplayMagics",
        "sx": "OSMagics",
        "system": "OSMagics",
        "time": "ExecutionMagics",
        "timeit": "ExecutionMagics",
        "writefile": "OSMagics"
       },
       "line": {
        "alias": "OSMagics",
        "alias_magic": "BasicMagics",
        "autoawait": "AsyncMagics",
        "autocall": "AutoMagics",
        "automagic": "AutoMagics",
        "autosave": "KernelMagics",
        "bookmark": "OSMagics",
        "cat": "Other",
        "cd": "OSMagics",
        "clear": "KernelMagics",
        "colors": "BasicMagics",
        "conda": "PackagingMagics",
        "config": "ConfigMagics",
        "connect_info": "KernelMagics",
        "cp": "Other",
        "debug": "ExecutionMagics",
        "dhist": "OSMagics",
        "dirs": "OSMagics",
        "doctest_mode": "BasicMagics",
        "ed": "Other",
        "edit": "KernelMagics",
        "env": "OSMagics",
        "gui": "BasicMagics",
        "hist": "Other",
        "history": "HistoryMagics",
        "killbgscripts": "ScriptMagics",
        "ldir": "Other",
        "less": "KernelMagics",
        "lf": "Other",
        "lk": "Other",
        "ll": "Other",
        "load": "CodeMagics",
        "load_ext": "ExtensionMagics",
        "loadpy": "CodeMagics",
        "logoff": "LoggingMagics",
        "logon": "LoggingMagics",
        "logstart": "LoggingMagics",
        "logstate": "LoggingMagics",
        "logstop": "LoggingMagics",
        "ls": "Other",
        "lsmagic": "BasicMagics",
        "lx": "Other",
        "macro": "ExecutionMagics",
        "magic": "BasicMagics",
        "man": "KernelMagics",
        "matplotlib": "PylabMagics",
        "mkdir": "Other",
        "more": "KernelMagics",
        "mv": "Other",
        "notebook": "BasicMagics",
        "page": "BasicMagics",
        "pastebin": "CodeMagics",
        "pdb": "ExecutionMagics",
        "pdef": "NamespaceMagics",
        "pdoc": "NamespaceMagics",
        "pfile": "NamespaceMagics",
        "pinfo": "NamespaceMagics",
        "pinfo2": "NamespaceMagics",
        "pip": "PackagingMagics",
        "popd": "OSMagics",
        "pprint": "BasicMagics",
        "precision": "BasicMagics",
        "prun": "ExecutionMagics",
        "psearch": "NamespaceMagics",
        "psource": "NamespaceMagics",
        "pushd": "OSMagics",
        "pwd": "OSMagics",
        "pycat": "OSMagics",
        "pylab": "PylabMagics",
        "qtconsole": "KernelMagics",
        "quickref": "BasicMagics",
        "recall": "HistoryMagics",
        "rehashx": "OSMagics",
        "reload_ext": "ExtensionMagics",
        "rep": "Other",
        "rerun": "HistoryMagics",
        "reset": "NamespaceMagics",
        "reset_selective": "NamespaceMagics",
        "rm": "Other",
        "rmdir": "Other",
        "run": "ExecutionMagics",
        "save": "CodeMagics",
        "sc": "OSMagics",
        "set_env": "OSMagics",
        "store": "StoreMagics",
        "sx": "OSMagics",
        "system": "OSMagics",
        "tb": "ExecutionMagics",
        "time": "ExecutionMagics",
        "timeit": "ExecutionMagics",
        "unalias": "OSMagics",
        "unload_ext": "ExtensionMagics",
        "who": "NamespaceMagics",
        "who_ls": "NamespaceMagics",
        "whos": "NamespaceMagics",
        "xdel": "NamespaceMagics",
        "xmode": "BasicMagics"
       }
      },
      "text/plain": [
       "Available line magics:\n",
       "%alias  %alias_magic  %autoawait  %autocall  %automagic  %autosave  %bookmark  %cat  %cd  %clear  %colors  %conda  %config  %connect_info  %cp  %debug  %dhist  %dirs  %doctest_mode  %ed  %edit  %env  %gui  %hist  %history  %killbgscripts  %ldir  %less  %lf  %lk  %ll  %load  %load_ext  %loadpy  %logoff  %logon  %logstart  %logstate  %logstop  %ls  %lsmagic  %lx  %macro  %magic  %man  %matplotlib  %mkdir  %more  %mv  %notebook  %page  %pastebin  %pdb  %pdef  %pdoc  %pfile  %pinfo  %pinfo2  %pip  %popd  %pprint  %precision  %prun  %psearch  %psource  %pushd  %pwd  %pycat  %pylab  %qtconsole  %quickref  %recall  %rehashx  %reload_ext  %rep  %rerun  %reset  %reset_selective  %rm  %rmdir  %run  %save  %sc  %set_env  %store  %sx  %system  %tb  %time  %timeit  %unalias  %unload_ext  %who  %who_ls  %whos  %xdel  %xmode\n",
       "\n",
       "Available cell magics:\n",
       "%%!  %%HTML  %%SVG  %%bash  %%capture  %%debug  %%file  %%html  %%javascript  %%js  %%latex  %%markdown  %%perl  %%prun  %%pypy  %%python  %%python2  %%python3  %%ruby  %%script  %%sh  %%svg  %%sx  %%system  %%time  %%timeit  %%writefile\n",
       "\n",
       "Automagic is ON, % prefix IS NOT needed for line magics."
      ]
     },
     "execution_count": 1,
     "metadata": {},
     "output_type": "execute_result"
    }
   ],
   "source": [
    "%lsmagic"
   ]
  },
  {
   "cell_type": "code",
   "execution_count": 15,
   "metadata": {},
   "outputs": [
    {
     "data": {
      "application/json": {
       "cell": {
        "!": "OSMagics",
        "HTML": "Other",
        "SVG": "Other",
        "bash": "Other",
        "capture": "ExecutionMagics",
        "debug": "ExecutionMagics",
        "file": "Other",
        "html": "DisplayMagics",
        "javascript": "DisplayMagics",
        "js": "DisplayMagics",
        "latex": "DisplayMagics",
        "markdown": "DisplayMagics",
        "perl": "Other",
        "prun": "ExecutionMagics",
        "pypy": "Other",
        "python": "Other",
        "python2": "Other",
        "python3": "Other",
        "ruby": "Other",
        "script": "ScriptMagics",
        "sh": "Other",
        "svg": "DisplayMagics",
        "sx": "OSMagics",
        "system": "OSMagics",
        "time": "ExecutionMagics",
        "timeit": "ExecutionMagics",
        "writefile": "OSMagics"
       },
       "line": {
        "alias": "OSMagics",
        "alias_magic": "BasicMagics",
        "autoawait": "AsyncMagics",
        "autocall": "AutoMagics",
        "automagic": "AutoMagics",
        "autosave": "KernelMagics",
        "bookmark": "OSMagics",
        "cat": "Other",
        "cd": "OSMagics",
        "clear": "KernelMagics",
        "colors": "BasicMagics",
        "conda": "PackagingMagics",
        "config": "ConfigMagics",
        "connect_info": "KernelMagics",
        "cp": "Other",
        "debug": "ExecutionMagics",
        "dhist": "OSMagics",
        "dirs": "OSMagics",
        "doctest_mode": "BasicMagics",
        "ed": "Other",
        "edit": "KernelMagics",
        "env": "OSMagics",
        "gui": "BasicMagics",
        "hist": "Other",
        "history": "HistoryMagics",
        "killbgscripts": "ScriptMagics",
        "ldir": "Other",
        "less": "KernelMagics",
        "lf": "Other",
        "lk": "Other",
        "ll": "Other",
        "load": "CodeMagics",
        "load_ext": "ExtensionMagics",
        "loadpy": "CodeMagics",
        "logoff": "LoggingMagics",
        "logon": "LoggingMagics",
        "logstart": "LoggingMagics",
        "logstate": "LoggingMagics",
        "logstop": "LoggingMagics",
        "ls": "Other",
        "lsmagic": "BasicMagics",
        "lx": "Other",
        "macro": "ExecutionMagics",
        "magic": "BasicMagics",
        "man": "KernelMagics",
        "matplotlib": "PylabMagics",
        "mkdir": "Other",
        "more": "KernelMagics",
        "mv": "Other",
        "notebook": "BasicMagics",
        "page": "BasicMagics",
        "pastebin": "CodeMagics",
        "pdb": "ExecutionMagics",
        "pdef": "NamespaceMagics",
        "pdoc": "NamespaceMagics",
        "pfile": "NamespaceMagics",
        "pinfo": "NamespaceMagics",
        "pinfo2": "NamespaceMagics",
        "pip": "PackagingMagics",
        "popd": "OSMagics",
        "pprint": "BasicMagics",
        "precision": "BasicMagics",
        "prun": "ExecutionMagics",
        "psearch": "NamespaceMagics",
        "psource": "NamespaceMagics",
        "pushd": "OSMagics",
        "pwd": "OSMagics",
        "pycat": "OSMagics",
        "pylab": "PylabMagics",
        "qtconsole": "KernelMagics",
        "quickref": "BasicMagics",
        "recall": "HistoryMagics",
        "rehashx": "OSMagics",
        "reload_ext": "ExtensionMagics",
        "rep": "Other",
        "rerun": "HistoryMagics",
        "reset": "NamespaceMagics",
        "reset_selective": "NamespaceMagics",
        "rm": "Other",
        "rmdir": "Other",
        "run": "ExecutionMagics",
        "save": "CodeMagics",
        "sc": "OSMagics",
        "set_env": "OSMagics",
        "store": "StoreMagics",
        "sx": "OSMagics",
        "system": "OSMagics",
        "tb": "ExecutionMagics",
        "time": "ExecutionMagics",
        "timeit": "ExecutionMagics",
        "unalias": "OSMagics",
        "unload_ext": "ExtensionMagics",
        "who": "NamespaceMagics",
        "who_ls": "NamespaceMagics",
        "whos": "NamespaceMagics",
        "xdel": "NamespaceMagics",
        "xmode": "BasicMagics"
       }
      },
      "text/plain": [
       "Available line magics:\n",
       "%alias  %alias_magic  %autoawait  %autocall  %automagic  %autosave  %bookmark  %cat  %cd  %clear  %colors  %conda  %config  %connect_info  %cp  %debug  %dhist  %dirs  %doctest_mode  %ed  %edit  %env  %gui  %hist  %history  %killbgscripts  %ldir  %less  %lf  %lk  %ll  %load  %load_ext  %loadpy  %logoff  %logon  %logstart  %logstate  %logstop  %ls  %lsmagic  %lx  %macro  %magic  %man  %matplotlib  %mkdir  %more  %mv  %notebook  %page  %pastebin  %pdb  %pdef  %pdoc  %pfile  %pinfo  %pinfo2  %pip  %popd  %pprint  %precision  %prun  %psearch  %psource  %pushd  %pwd  %pycat  %pylab  %qtconsole  %quickref  %recall  %rehashx  %reload_ext  %rep  %rerun  %reset  %reset_selective  %rm  %rmdir  %run  %save  %sc  %set_env  %store  %sx  %system  %tb  %time  %timeit  %unalias  %unload_ext  %who  %who_ls  %whos  %xdel  %xmode\n",
       "\n",
       "Available cell magics:\n",
       "%%!  %%HTML  %%SVG  %%bash  %%capture  %%debug  %%file  %%html  %%javascript  %%js  %%latex  %%markdown  %%perl  %%prun  %%pypy  %%python  %%python2  %%python3  %%ruby  %%script  %%sh  %%svg  %%sx  %%system  %%time  %%timeit  %%writefile\n",
       "\n",
       "Automagic is ON, % prefix IS NOT needed for line magics."
      ]
     },
     "execution_count": 15,
     "metadata": {},
     "output_type": "execute_result"
    }
   ],
   "source": [
    "lsmagic"
   ]
  },
  {
   "cell_type": "code",
   "execution_count": 22,
   "metadata": {},
   "outputs": [
    {
     "name": "stdout",
     "output_type": "stream",
     "text": [
      "Uncaught\n"
     ]
    }
   ],
   "source": [
    "%%node\n",
    "\n",
    "pixiedust.optOut(\"ddddd\")"
   ]
  },
  {
   "cell_type": "code",
   "execution_count": 14,
   "metadata": {},
   "outputs": [
    {
     "name": "stdout",
     "output_type": "stream",
     "text": [
      "Collecting pixiedust\n",
      "\u001b[?25l  Downloading https://files.pythonhosted.org/packages/16/ba/7488f06b48238205562f9d63aaae2303c060c5dfd63b1ddd3bd9d4656eb1/pixiedust-1.1.18.tar.gz (197kB)\n",
      "\u001b[K     |████████████████████████████████| 204kB 1.5MB/s eta 0:00:01\n",
      "\u001b[?25hCollecting mpld3 (from pixiedust)\n",
      "\u001b[?25l  Downloading https://files.pythonhosted.org/packages/91/95/a52d3a83d0a29ba0d6898f6727e9858fe7a43f6c2ce81a5fe7e05f0f4912/mpld3-0.3.tar.gz (788kB)\n",
      "\u001b[K     |████████████████████████████████| 798kB 11.2MB/s eta 0:00:01     |███████████████▍                | 378kB 11.2MB/s eta 0:00:01\n",
      "\u001b[?25hRequirement already satisfied: lxml in /home/andrzej/anaconda3/lib/python3.7/site-packages (from pixiedust) (4.4.1)\n",
      "Collecting geojson (from pixiedust)\n",
      "  Downloading https://files.pythonhosted.org/packages/e4/8d/9e28e9af95739e6d2d2f8d4bef0b3432da40b7c3588fbad4298c1be09e48/geojson-2.5.0-py2.py3-none-any.whl\n",
      "Collecting astunparse (from pixiedust)\n",
      "  Downloading https://files.pythonhosted.org/packages/2b/03/13dde6512ad7b4557eb792fbcf0c653af6076b81e5941d36ec61f7ce6028/astunparse-1.6.3-py2.py3-none-any.whl\n",
      "Requirement already satisfied: markdown in /home/andrzej/anaconda3/lib/python3.7/site-packages (from pixiedust) (3.1.1)\n",
      "Collecting colour (from pixiedust)\n",
      "  Downloading https://files.pythonhosted.org/packages/74/46/e81907704ab203206769dee1385dc77e1407576ff8f50a0681d0a6b541be/colour-0.1.5-py2.py3-none-any.whl\n",
      "Requirement already satisfied: requests in /home/andrzej/anaconda3/lib/python3.7/site-packages (from pixiedust) (2.22.0)\n",
      "Requirement already satisfied: six<2.0,>=1.6.1 in /home/andrzej/anaconda3/lib/python3.7/site-packages (from astunparse->pixiedust) (1.12.0)\n",
      "Requirement already satisfied: wheel<1.0,>=0.23.0 in /home/andrzej/anaconda3/lib/python3.7/site-packages (from astunparse->pixiedust) (0.33.6)\n",
      "Requirement already satisfied: setuptools>=36 in /home/andrzej/anaconda3/lib/python3.7/site-packages (from markdown->pixiedust) (41.4.0)\n",
      "Requirement already satisfied: urllib3!=1.25.0,!=1.25.1,<1.26,>=1.21.1 in /home/andrzej/anaconda3/lib/python3.7/site-packages (from requests->pixiedust) (1.24.2)\n",
      "Requirement already satisfied: certifi>=2017.4.17 in /home/andrzej/anaconda3/lib/python3.7/site-packages (from requests->pixiedust) (2019.9.11)\n",
      "Requirement already satisfied: chardet<3.1.0,>=3.0.2 in /home/andrzej/anaconda3/lib/python3.7/site-packages (from requests->pixiedust) (3.0.4)\n",
      "Requirement already satisfied: idna<2.9,>=2.5 in /home/andrzej/anaconda3/lib/python3.7/site-packages (from requests->pixiedust) (2.8)\n",
      "Building wheels for collected packages: pixiedust, mpld3\n",
      "  Building wheel for pixiedust (setup.py) ... \u001b[?25ldone\n",
      "\u001b[?25h  Created wheel for pixiedust: filename=pixiedust-1.1.18-cp37-none-any.whl size=321728 sha256=963669c606e2ed7584010e87e5d53f4f4909db7603c8ff253b56f5d1cd7af2fc\n",
      "  Stored in directory: /home/andrzej/.cache/pip/wheels/e8/b1/86/c2f2e16e6bf9bfe556f9dbf8adb9f41816c476d73078c7d0eb\n",
      "  Building wheel for mpld3 (setup.py) ... \u001b[?25ldone\n",
      "\u001b[?25h  Created wheel for mpld3: filename=mpld3-0.3-cp37-none-any.whl size=116678 sha256=dca96c43d236bee9aa21565b00eaaa1ff501d25249379652ffda0515634dcbe5\n",
      "  Stored in directory: /home/andrzej/.cache/pip/wheels/c0/47/fb/8a64f89aecfe0059830479308ad42d62e898a3e3cefdf6ba28\n",
      "Successfully built pixiedust mpld3\n",
      "Installing collected packages: mpld3, geojson, astunparse, colour, pixiedust\n",
      "Successfully installed astunparse-1.6.3 colour-0.1.5 geojson-2.5.0 mpld3-0.3 pixiedust-1.1.18\n",
      "Collecting pixiedust_node\n",
      "  Downloading https://files.pythonhosted.org/packages/f0/ea/7c92581d0e046d61d482c3d30bed52fe9febf485243b50f76909371557a0/pixiedust_node-0.2.5.tar.gz\n",
      "Requirement already satisfied: pixiedust in /home/andrzej/anaconda3/lib/python3.7/site-packages (from pixiedust_node) (1.1.18)\n",
      "Requirement already satisfied: pandas in /home/andrzej/anaconda3/lib/python3.7/site-packages (from pixiedust_node) (0.25.1)\n",
      "Requirement already satisfied: ipython in /home/andrzej/anaconda3/lib/python3.7/site-packages (from pixiedust_node) (7.8.0)\n",
      "Requirement already satisfied: geojson in /home/andrzej/anaconda3/lib/python3.7/site-packages (from pixiedust->pixiedust_node) (2.5.0)\n",
      "Requirement already satisfied: requests in /home/andrzej/anaconda3/lib/python3.7/site-packages (from pixiedust->pixiedust_node) (2.22.0)\n",
      "Requirement already satisfied: mpld3 in /home/andrzej/anaconda3/lib/python3.7/site-packages (from pixiedust->pixiedust_node) (0.3)\n",
      "Requirement already satisfied: colour in /home/andrzej/anaconda3/lib/python3.7/site-packages (from pixiedust->pixiedust_node) (0.1.5)\n",
      "Requirement already satisfied: markdown in /home/andrzej/anaconda3/lib/python3.7/site-packages (from pixiedust->pixiedust_node) (3.1.1)\n",
      "Requirement already satisfied: astunparse in /home/andrzej/anaconda3/lib/python3.7/site-packages (from pixiedust->pixiedust_node) (1.6.3)\n",
      "Requirement already satisfied: lxml in /home/andrzej/anaconda3/lib/python3.7/site-packages (from pixiedust->pixiedust_node) (4.4.1)\n",
      "Requirement already satisfied: python-dateutil>=2.6.1 in /home/andrzej/anaconda3/lib/python3.7/site-packages (from pandas->pixiedust_node) (2.8.0)\n",
      "Requirement already satisfied: pytz>=2017.2 in /home/andrzej/anaconda3/lib/python3.7/site-packages (from pandas->pixiedust_node) (2019.3)\n",
      "Requirement already satisfied: numpy>=1.13.3 in /home/andrzej/anaconda3/lib/python3.7/site-packages (from pandas->pixiedust_node) (1.17.2)\n",
      "Requirement already satisfied: backcall in /home/andrzej/anaconda3/lib/python3.7/site-packages (from ipython->pixiedust_node) (0.1.0)\n",
      "Requirement already satisfied: decorator in /home/andrzej/anaconda3/lib/python3.7/site-packages (from ipython->pixiedust_node) (4.4.0)\n",
      "Requirement already satisfied: pickleshare in /home/andrzej/anaconda3/lib/python3.7/site-packages (from ipython->pixiedust_node) (0.7.5)\n",
      "Requirement already satisfied: setuptools>=18.5 in /home/andrzej/anaconda3/lib/python3.7/site-packages (from ipython->pixiedust_node) (41.4.0)\n",
      "Requirement already satisfied: traitlets>=4.2 in /home/andrzej/anaconda3/lib/python3.7/site-packages (from ipython->pixiedust_node) (4.3.3)\n",
      "Requirement already satisfied: prompt-toolkit<2.1.0,>=2.0.0 in /home/andrzej/anaconda3/lib/python3.7/site-packages (from ipython->pixiedust_node) (2.0.10)\n",
      "Requirement already satisfied: pexpect; sys_platform != \"win32\" in /home/andrzej/anaconda3/lib/python3.7/site-packages (from ipython->pixiedust_node) (4.7.0)\n",
      "Requirement already satisfied: pygments in /home/andrzej/anaconda3/lib/python3.7/site-packages (from ipython->pixiedust_node) (2.4.2)\n",
      "Requirement already satisfied: jedi>=0.10 in /home/andrzej/anaconda3/lib/python3.7/site-packages (from ipython->pixiedust_node) (0.15.1)\n",
      "Requirement already satisfied: chardet<3.1.0,>=3.0.2 in /home/andrzej/anaconda3/lib/python3.7/site-packages (from requests->pixiedust->pixiedust_node) (3.0.4)\n",
      "Requirement already satisfied: urllib3!=1.25.0,!=1.25.1,<1.26,>=1.21.1 in /home/andrzej/anaconda3/lib/python3.7/site-packages (from requests->pixiedust->pixiedust_node) (1.24.2)\n",
      "Requirement already satisfied: certifi>=2017.4.17 in /home/andrzej/anaconda3/lib/python3.7/site-packages (from requests->pixiedust->pixiedust_node) (2019.9.11)\n",
      "Requirement already satisfied: idna<2.9,>=2.5 in /home/andrzej/anaconda3/lib/python3.7/site-packages (from requests->pixiedust->pixiedust_node) (2.8)\n",
      "Requirement already satisfied: six<2.0,>=1.6.1 in /home/andrzej/anaconda3/lib/python3.7/site-packages (from astunparse->pixiedust->pixiedust_node) (1.12.0)\n",
      "Requirement already satisfied: wheel<1.0,>=0.23.0 in /home/andrzej/anaconda3/lib/python3.7/site-packages (from astunparse->pixiedust->pixiedust_node) (0.33.6)\n",
      "Requirement already satisfied: ipython-genutils in /home/andrzej/anaconda3/lib/python3.7/site-packages (from traitlets>=4.2->ipython->pixiedust_node) (0.2.0)\n",
      "Requirement already satisfied: wcwidth in /home/andrzej/anaconda3/lib/python3.7/site-packages (from prompt-toolkit<2.1.0,>=2.0.0->ipython->pixiedust_node) (0.1.7)\n",
      "Requirement already satisfied: ptyprocess>=0.5 in /home/andrzej/anaconda3/lib/python3.7/site-packages (from pexpect; sys_platform != \"win32\"->ipython->pixiedust_node) (0.6.0)\n",
      "Requirement already satisfied: parso>=0.5.0 in /home/andrzej/anaconda3/lib/python3.7/site-packages (from jedi>=0.10->ipython->pixiedust_node) (0.5.1)\n",
      "Building wheels for collected packages: pixiedust-node\n"
     ]
    },
    {
     "name": "stdout",
     "output_type": "stream",
     "text": [
      "  Building wheel for pixiedust-node (setup.py) ... \u001b[?25ldone\n",
      "\u001b[?25h  Created wheel for pixiedust-node: filename=pixiedust_node-0.2.5-py2.py3-none-any.whl size=9405 sha256=c83c7d30697970d8996c48155934e4f7c0069208cd88d9048bda69f06e9da642\n",
      "  Stored in directory: /home/andrzej/.cache/pip/wheels/0e/6f/bc/b15e5b57deddd8d035afc9f61b1c6e474f3789b3fa95999126\n",
      "Successfully built pixiedust-node\n",
      "Installing collected packages: pixiedust-node\n",
      "Successfully installed pixiedust-node-0.2.5\n"
     ]
    }
   ],
   "source": [
    "!pip install pixiedust\n",
    "!pip install pixiedust_node"
   ]
  },
  {
   "cell_type": "code",
   "execution_count": 16,
   "metadata": {},
   "outputs": [
    {
     "name": "stdout",
     "output_type": "stream",
     "text": [
      "Pixiedust database opened successfully\n",
      "Table VERSION_TRACKER created successfully\n",
      "Table METRICS_TRACKER created successfully\n",
      "\n",
      "Share anonymous install statistics? (opt-out instructions)\n",
      "\n",
      "PixieDust will record metadata on its environment the next time the package is installed or updated. The data is anonymized and aggregated to help plan for future releases, and records only the following values:\n",
      "\n",
      "{\n",
      "   \"data_sent\": currentDate,\n",
      "   \"runtime\": \"python\",\n",
      "   \"application_version\": currentPixiedustVersion,\n",
      "   \"space_id\": nonIdentifyingUniqueId,\n",
      "   \"config\": {\n",
      "       \"repository_id\": \"https://github.com/ibm-watson-data-lab/pixiedust\",\n",
      "       \"target_runtimes\": [\"Data Science Experience\"],\n",
      "       \"event_id\": \"web\",\n",
      "       \"event_organizer\": \"dev-journeys\"\n",
      "   }\n",
      "}\n",
      "You can opt out by calling pixiedust.optOut() in a new cell.\n"
     ]
    },
    {
     "data": {
      "text/html": [
       "\n",
       "        <div style=\"margin:10px\">\n",
       "            <a href=\"https://github.com/ibm-watson-data-lab/pixiedust\" target=\"_new\">\n",
       "                <img src=\"https://github.com/ibm-watson-data-lab/pixiedust/raw/master/docs/_static/pd_icon32.png\" style=\"float:left;margin-right:10px\"/>\n",
       "            </a>\n",
       "            <span>Pixiedust version 1.1.18</span>\n",
       "        </div>\n",
       "        "
      ],
      "text/plain": [
       "<IPython.core.display.HTML object>"
      ]
     },
     "metadata": {},
     "output_type": "display_data"
    },
    {
     "name": "stdout",
     "output_type": "stream",
     "text": [
      "\u001b[31mPixiedust runtime updated. Please restart kernel\u001b[0m\n",
      "Table USER_PREFERENCES created successfully\n",
      "Table service_connections created successfully\n"
     ]
    },
    {
     "data": {
      "text/html": [
       "\n",
       "            <div style=\"margin:10px\"> \n",
       "            <a href=\"https://github.com/ibm-cds-labs/pixiedust_node\" target=\"_new\"> \n",
       "            <img src=\"https://github.com/ibm-cds-labs/pixiedust_node/raw/master/docs/_images/pdn_icon32.png\" style=\"float:left;margin-right:10px\"/> \n",
       "            </a> \n",
       "            <span>Pixiedust Node.js</span> \n",
       "            </div> \n"
      ],
      "text/plain": [
       "<IPython.core.display.HTML object>"
      ]
     },
     "metadata": {},
     "output_type": "display_data"
    },
    {
     "name": "stdout",
     "output_type": "stream",
     "text": [
      "pixiedust_node 0.2.5 started. Cells starting '%%node' may contain Node.js code.\n"
     ]
    }
   ],
   "source": [
    "import pixiedust_node"
   ]
  },
  {
   "cell_type": "code",
   "execution_count": 23,
   "metadata": {},
   "outputs": [
    {
     "name": "stdout",
     "output_type": "stream",
     "text": [
      "\"2020-05-15T09:04:08.241Z\"\n"
     ]
    }
   ],
   "source": [
    "%%node\n",
    "var date = new Date();\n",
    "print(date);\n",
    "// \"2017-05-15T14:02:28.207Z\""
   ]
  },
  {
   "cell_type": "code",
   "execution_count": 27,
   "metadata": {},
   "outputs": [
    {
     "data": {
      "text/plain": [
       "'/home/andrzej/praca meteo/werification/filter-training'"
      ]
     },
     "execution_count": 27,
     "metadata": {},
     "output_type": "execute_result"
    }
   ],
   "source": [
    "pwd"
   ]
  },
  {
   "cell_type": "code",
   "execution_count": 26,
   "metadata": {},
   "outputs": [],
   "source": [
    "import os\n",
    "os.chdir(\"../filter-training\")"
   ]
  },
  {
   "cell_type": "code",
   "execution_count": 30,
   "metadata": {},
   "outputs": [
    {
     "data": {
      "application/javascript": [
       "class UMIMGW{\n",
       "  constructor() {\n",
       "    var reader = new FileReader();\n",
       "    this.txt = reader.readAsText(\"umimgw_series_2016-01-01T00.txt\");\n",
       "  }\n",
       "}\n",
       "\n",
       "console.log(new UMIMGW().txt);\n"
      ],
      "text/plain": [
       "<IPython.core.display.Javascript object>"
      ]
     },
     "metadata": {},
     "output_type": "display_data"
    }
   ],
   "source": [
    "%%js\n",
    "class UMIMGW{\n",
    "  constructor() {\n",
    "    var reader = new FileReader();\n",
    "    this.txt = reader.readAsText(\"umimgw_series_2016-01-01T00.txt\");\n",
    "  }\n",
    "}\n",
    "\n",
    "console.log(new UMIMGW().txt);"
   ]
  },
  {
   "cell_type": "code",
   "execution_count": 40,
   "metadata": {},
   "outputs": [
    {
     "name": "stdout",
     "output_type": "stream",
     "text": [
      "... ... Uncaught\n"
     ]
    }
   ],
   "source": [
    "    %%node\n",
    "    fetch(\n",
    "      \"file:///home/andrzej/praca%20meteo/werification/filter-training/umimgw_series_2016-01-01T00.txt\"\n",
    "    ).then((response) => print(response));\n"
   ]
  },
  {
   "cell_type": "code",
   "execution_count": 35,
   "metadata": {},
   "outputs": [
    {
     "data": {
      "application/javascript": [
       "f = \"file:///home/andrzej/praca%20meteo/werification/filter-training/umimgw_series_2016-01-01T00.txt\"\n",
       "out.open(\"GET\", f, false)\n",
       "console.log(out)\n"
      ],
      "text/plain": [
       "<IPython.core.display.Javascript object>"
      ]
     },
     "metadata": {},
     "output_type": "display_data"
    }
   ],
   "source": [
    "%%js\n",
    "f = \"file:///home/andrzej/praca%20meteo/werification/filter-training/umimgw_series_2016-01-01T00.txt\"\n",
    "out.open(\"GET\", f, false)\n",
    "console.log(out)"
   ]
  },
  {
   "cell_type": "code",
   "execution_count": null,
   "metadata": {},
   "outputs": [],
   "source": []
  }
 ],
 "metadata": {
  "kernelspec": {
   "display_name": "Python 3",
   "language": "python",
   "name": "python3"
  },
  "language_info": {
   "codemirror_mode": {
    "name": "ipython",
    "version": 3
   },
   "file_extension": ".py",
   "mimetype": "text/x-python",
   "name": "python",
   "nbconvert_exporter": "python",
   "pygments_lexer": "ipython3",
   "version": "3.7.4"
  }
 },
 "nbformat": 4,
 "nbformat_minor": 2
}
